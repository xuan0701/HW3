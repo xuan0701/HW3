{
  "nbformat": 4,
  "nbformat_minor": 0,
  "metadata": {
    "colab": {
      "provenance": []
    },
    "kernelspec": {
      "name": "python3",
      "display_name": "Python 3"
    },
    "language_info": {
      "name": "python"
    }
  },
  "cells": [
    {
      "cell_type": "code",
      "execution_count": null,
      "metadata": {
        "colab": {
          "base_uri": "https://localhost:8080/"
        },
        "id": "beRv17Oee324",
        "outputId": "1cdf12f8-352e-4953-eeed-0daaae62fb6d"
      },
      "outputs": [
        {
          "output_type": "stream",
          "name": "stdout",
          "text": [
            "Hello world!⧸⎩⎠⎞͏(・∀・)⎛͏⎝⎭⧹\n"
          ]
        }
      ],
      "source": [
        "print('Hello world!⧸⎩⎠⎞͏(・∀・)⎛͏⎝⎭⧹')"
      ]
    }
  ]
}